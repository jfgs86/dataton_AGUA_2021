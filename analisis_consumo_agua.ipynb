{
 "cells": [
  {
   "cell_type": "code",
   "execution_count": null,
   "source": [
    "import pandas as pd\n",
    "import numpy as np\n",
    "import plotly.offline as pyo\n",
    "import plotly.graph_objs as go\n",
    "\n",
    "\n",
    "df = pd.read_csv(\"/home/jfractal/Documentos/dataton_2021/dataton_AGUA_2021/consumo-agua.csv\")"
   ],
   "outputs": [],
   "metadata": {}
  },
  {
   "cell_type": "code",
   "execution_count": null,
   "source": [
    "#df.dtypes ## muestra los nombres de los campos y su tipo.\n",
    "df.columns"
   ],
   "outputs": [],
   "metadata": {}
  },
  {
   "cell_type": "code",
   "execution_count": null,
   "source": [
    "df2 = df.iloc[:, [8,9,7,17,1]]\n",
    "df2.head(10)"
   ],
   "outputs": [],
   "metadata": {}
  },
  {
   "cell_type": "code",
   "execution_count": null,
   "source": [
    "df2['lat'], df2['lon'] = df2['geo_point_2d'].str.split(',', 1).str ## Separamos el campo geo_point_2d en dos nuevas columnas\n",
    "df2.head()"
   ],
   "outputs": [],
   "metadata": {}
  },
  {
   "cell_type": "code",
   "execution_count": null,
   "source": [
    "consumoAguaAlcaldia = pd.DataFrame(df2.groupby([\"alcaldia\"]).consumo_total_dom.sum())##Agrupamos por alcaldía y calculamos su total de consumo\n",
    "\n",
    "consumoAguaAlcaldia = consumoAguaAlcaldia.rename_axis('alcaldia').reset_index()\n",
    "print(consumoAguaAlcaldia)\n"
   ],
   "outputs": [],
   "metadata": {}
  },
  {
   "cell_type": "code",
   "execution_count": null,
   "source": [
    "consumoAguaColonia = pd.DataFrame(df2.groupby([\"colonia\"]).consumo_total_dom.sum())##Agrupamos por colonia y calculamos su consumo Total de agua\n",
    "print(consumoAguaColonia)\n"
   ],
   "outputs": [],
   "metadata": {}
  },
  {
   "cell_type": "code",
   "execution_count": null,
   "source": [
    "consumoAguaIndiceDes = pd.DataFrame( ((df2.groupby(['indice_des']).consumo_total_dom.sum() )))##Agrupamos por índice de desarrollo y calculamos su consumo total de agua\n",
    "consumoAguaIndiceDes.head()"
   ],
   "outputs": [],
   "metadata": {}
  },
  {
   "cell_type": "code",
   "execution_count": null,
   "source": [
    "coloniasIndiceDes = pd.DataFrame(df2.indice_des.value_counts() )### Calculamos una tabla de frecuencias de colonias con su indice de desarrollo\n",
    "print(coloniasIndiceDes)"
   ],
   "outputs": [],
   "metadata": {}
  },
  {
   "cell_type": "markdown",
   "source": [
    "# Gráficas"
   ],
   "metadata": {}
  },
  {
   "cell_type": "code",
   "execution_count": 58,
   "source": [
    "data = [go.Bar(x=consumoAguaAlcaldia[\"alcaldia\"] , y=consumoAguaAlcaldia[\"consumo_total_dom\"]   )]\n",
    "layout = go.Layout(title=\"Consumo de Agua Domiciliario por Alcaldía\\nCDMX 2019\",\n",
    "                    xaxis= dict(title=\"Alcaldías\"),\n",
    "                    yaxis= dict(title=\"Consumo Total de Agua\"),\n",
    "                    barmode = \"stack\" )\n",
    "fig = go.Figure(data=data, layout=layout)\n",
    "pyo.plot(fig)"
   ],
   "outputs": [
    {
     "output_type": "execute_result",
     "data": {
      "text/plain": [
       "'temp-plot.html'"
      ]
     },
     "metadata": {},
     "execution_count": 58
    }
   ],
   "metadata": {}
  }
 ],
 "metadata": {
  "orig_nbformat": 4,
  "language_info": {
   "name": "python",
   "version": "3.6.9",
   "mimetype": "text/x-python",
   "codemirror_mode": {
    "name": "ipython",
    "version": 3
   },
   "pygments_lexer": "ipython3",
   "nbconvert_exporter": "python",
   "file_extension": ".py"
  },
  "kernelspec": {
   "name": "python3",
   "display_name": "Python 3.6.9 64-bit"
  },
  "interpreter": {
   "hash": "31f2aee4e71d21fbe5cf8b01ff0e069b9275f58929596ceb00d14d90e3e16cd6"
  }
 },
 "nbformat": 4,
 "nbformat_minor": 2
}