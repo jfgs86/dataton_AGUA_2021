{
 "cells": [
  {
   "cell_type": "code",
   "execution_count": null,
   "source": [
    "import pandas as pd\n",
    "import numpy as np\n",
    "import plotly.offline as pyo\n",
    "import plotly.graph_objs as go\n",
    "\n",
    "\n",
    "df = pd.read_csv(\"/home/jfractal/Documentos/dataton_2021/dataton_AGUA_2021/consumo-agua.csv\")"
   ],
   "outputs": [],
   "metadata": {}
  },
  {
   "cell_type": "code",
   "execution_count": 9,
   "source": [
    "#df.dtypes ## muestra los nombres de los campos y su tipo.\n",
    "df.columns"
   ],
   "outputs": [
    {
     "output_type": "execute_result",
     "data": {
      "text/plain": [
       "Index(['id', 'geo_point_2d', 'geo_shape', 'consumo_total_mixto', 'anio',\n",
       "       'nomgeo', 'consumo_prom_dom', 'consumo_total_dom', 'alcaldia',\n",
       "       'colonia', 'consumo_prom_mixto', 'consumo_total', 'consumo_prom',\n",
       "       'consumo_prom_no_dom', 'bimestre', 'consumo_total_no_dom', 'gid',\n",
       "       'indice_des'],\n",
       "      dtype='object')"
      ]
     },
     "metadata": {},
     "execution_count": 9
    }
   ],
   "metadata": {}
  },
  {
   "cell_type": "code",
   "execution_count": 17,
   "source": [
    "df2 = df.iloc[:, [8,9,7,17,1]]\n",
    "df2.head(10)"
   ],
   "outputs": [
    {
     "output_type": "execute_result",
     "data": {
      "text/html": [
       "<div>\n",
       "<style scoped>\n",
       "    .dataframe tbody tr th:only-of-type {\n",
       "        vertical-align: middle;\n",
       "    }\n",
       "\n",
       "    .dataframe tbody tr th {\n",
       "        vertical-align: top;\n",
       "    }\n",
       "\n",
       "    .dataframe thead th {\n",
       "        text-align: right;\n",
       "    }\n",
       "</style>\n",
       "<table border=\"1\" class=\"dataframe\">\n",
       "  <thead>\n",
       "    <tr style=\"text-align: right;\">\n",
       "      <th></th>\n",
       "      <th>alcaldia</th>\n",
       "      <th>colonia</th>\n",
       "      <th>consumo_total_dom</th>\n",
       "      <th>indice_des</th>\n",
       "      <th>geo_point_2d</th>\n",
       "    </tr>\n",
       "  </thead>\n",
       "  <tbody>\n",
       "    <tr>\n",
       "      <th>0</th>\n",
       "      <td>GUSTAVO A. MADERO</td>\n",
       "      <td>7 DE NOVIEMBRE</td>\n",
       "      <td>468.23</td>\n",
       "      <td>ALTO</td>\n",
       "      <td>19.4552601937,-99.1126617526</td>\n",
       "    </tr>\n",
       "    <tr>\n",
       "      <th>1</th>\n",
       "      <td>GUSTAVO A. MADERO</td>\n",
       "      <td>7 DE NOVIEMBRE</td>\n",
       "      <td>107.81</td>\n",
       "      <td>MEDIO</td>\n",
       "      <td>19.4552601937,-99.1126617526</td>\n",
       "    </tr>\n",
       "    <tr>\n",
       "      <th>2</th>\n",
       "      <td>GUSTAVO A. MADERO</td>\n",
       "      <td>7 DE NOVIEMBRE</td>\n",
       "      <td>122.93</td>\n",
       "      <td>POPULAR</td>\n",
       "      <td>19.4557195871,-99.1135822797</td>\n",
       "    </tr>\n",
       "    <tr>\n",
       "      <th>3</th>\n",
       "      <td>GUSTAVO A. MADERO</td>\n",
       "      <td>NUEVA TENOCHTITLAN</td>\n",
       "      <td>0.00</td>\n",
       "      <td>BAJO</td>\n",
       "      <td>19.4596467168,-99.1044693641</td>\n",
       "    </tr>\n",
       "    <tr>\n",
       "      <th>4</th>\n",
       "      <td>AZCAPOTZALCO</td>\n",
       "      <td>PROHOGAR</td>\n",
       "      <td>539.49</td>\n",
       "      <td>BAJO</td>\n",
       "      <td>19.4741606185,-99.1467497317</td>\n",
       "    </tr>\n",
       "    <tr>\n",
       "      <th>5</th>\n",
       "      <td>AZCAPOTZALCO</td>\n",
       "      <td>TRABAJADORES DEL HIERRO</td>\n",
       "      <td>927.57</td>\n",
       "      <td>BAJO</td>\n",
       "      <td>19.4786132637,-99.1505710391</td>\n",
       "    </tr>\n",
       "    <tr>\n",
       "      <th>6</th>\n",
       "      <td>AZCAPOTZALCO</td>\n",
       "      <td>BARRIO COLTONGO</td>\n",
       "      <td>4633.05</td>\n",
       "      <td>BAJO</td>\n",
       "      <td>19.4802112624,-99.1523159396</td>\n",
       "    </tr>\n",
       "    <tr>\n",
       "      <th>7</th>\n",
       "      <td>AZCAPOTZALCO</td>\n",
       "      <td>BARRIO COLTONGO</td>\n",
       "      <td>0.00</td>\n",
       "      <td>POPULAR</td>\n",
       "      <td>19.4790956153,-99.1489199748</td>\n",
       "    </tr>\n",
       "    <tr>\n",
       "      <th>8</th>\n",
       "      <td>AZCAPOTZALCO</td>\n",
       "      <td>TRABAJADORES DEL HIERRO</td>\n",
       "      <td>1716.72</td>\n",
       "      <td>BAJO</td>\n",
       "      <td>19.4785851242,-99.1488473055</td>\n",
       "    </tr>\n",
       "    <tr>\n",
       "      <th>9</th>\n",
       "      <td>AZCAPOTZALCO</td>\n",
       "      <td>TRABAJADORES DEL HIERRO</td>\n",
       "      <td>207.65</td>\n",
       "      <td>BAJO</td>\n",
       "      <td>19.4772727955,-99.1479205102</td>\n",
       "    </tr>\n",
       "  </tbody>\n",
       "</table>\n",
       "</div>"
      ],
      "text/plain": [
       "            alcaldia                  colonia  consumo_total_dom indice_des  \\\n",
       "0  GUSTAVO A. MADERO           7 DE NOVIEMBRE             468.23       ALTO   \n",
       "1  GUSTAVO A. MADERO           7 DE NOVIEMBRE             107.81      MEDIO   \n",
       "2  GUSTAVO A. MADERO           7 DE NOVIEMBRE             122.93    POPULAR   \n",
       "3  GUSTAVO A. MADERO       NUEVA TENOCHTITLAN               0.00       BAJO   \n",
       "4       AZCAPOTZALCO                 PROHOGAR             539.49       BAJO   \n",
       "5       AZCAPOTZALCO  TRABAJADORES DEL HIERRO             927.57       BAJO   \n",
       "6       AZCAPOTZALCO          BARRIO COLTONGO            4633.05       BAJO   \n",
       "7       AZCAPOTZALCO          BARRIO COLTONGO               0.00    POPULAR   \n",
       "8       AZCAPOTZALCO  TRABAJADORES DEL HIERRO            1716.72       BAJO   \n",
       "9       AZCAPOTZALCO  TRABAJADORES DEL HIERRO             207.65       BAJO   \n",
       "\n",
       "                   geo_point_2d  \n",
       "0  19.4552601937,-99.1126617526  \n",
       "1  19.4552601937,-99.1126617526  \n",
       "2  19.4557195871,-99.1135822797  \n",
       "3  19.4596467168,-99.1044693641  \n",
       "4  19.4741606185,-99.1467497317  \n",
       "5  19.4786132637,-99.1505710391  \n",
       "6  19.4802112624,-99.1523159396  \n",
       "7  19.4790956153,-99.1489199748  \n",
       "8  19.4785851242,-99.1488473055  \n",
       "9  19.4772727955,-99.1479205102  "
      ]
     },
     "metadata": {},
     "execution_count": 17
    }
   ],
   "metadata": {}
  },
  {
   "cell_type": "code",
   "execution_count": 21,
   "source": [
    "df2['lat'], df2['lon'] = df2['geo_point_2d'].str.split(',', 1).str ## Separamos el campo geo_point_2d en dos nuevas columnas\n",
    "df2.head()"
   ],
   "outputs": [
    {
     "output_type": "stream",
     "name": "stderr",
     "text": [
      "/usr/lib/python3/dist-packages/ipykernel_launcher.py:1: FutureWarning:\n",
      "\n",
      "Columnar iteration over characters will be deprecated in future releases.\n",
      "\n",
      "/usr/lib/python3/dist-packages/ipykernel_launcher.py:1: SettingWithCopyWarning:\n",
      "\n",
      "\n",
      "A value is trying to be set on a copy of a slice from a DataFrame.\n",
      "Try using .loc[row_indexer,col_indexer] = value instead\n",
      "\n",
      "See the caveats in the documentation: https://pandas.pydata.org/pandas-docs/stable/user_guide/indexing.html#returning-a-view-versus-a-copy\n",
      "\n"
     ]
    },
    {
     "output_type": "execute_result",
     "data": {
      "text/html": [
       "<div>\n",
       "<style scoped>\n",
       "    .dataframe tbody tr th:only-of-type {\n",
       "        vertical-align: middle;\n",
       "    }\n",
       "\n",
       "    .dataframe tbody tr th {\n",
       "        vertical-align: top;\n",
       "    }\n",
       "\n",
       "    .dataframe thead th {\n",
       "        text-align: right;\n",
       "    }\n",
       "</style>\n",
       "<table border=\"1\" class=\"dataframe\">\n",
       "  <thead>\n",
       "    <tr style=\"text-align: right;\">\n",
       "      <th></th>\n",
       "      <th>alcaldia</th>\n",
       "      <th>colonia</th>\n",
       "      <th>consumo_total_dom</th>\n",
       "      <th>indice_des</th>\n",
       "      <th>geo_point_2d</th>\n",
       "      <th>lat</th>\n",
       "      <th>lon</th>\n",
       "    </tr>\n",
       "  </thead>\n",
       "  <tbody>\n",
       "    <tr>\n",
       "      <th>0</th>\n",
       "      <td>GUSTAVO A. MADERO</td>\n",
       "      <td>7 DE NOVIEMBRE</td>\n",
       "      <td>468.23</td>\n",
       "      <td>ALTO</td>\n",
       "      <td>19.4552601937,-99.1126617526</td>\n",
       "      <td>19.4552601937</td>\n",
       "      <td>-99.1126617526</td>\n",
       "    </tr>\n",
       "    <tr>\n",
       "      <th>1</th>\n",
       "      <td>GUSTAVO A. MADERO</td>\n",
       "      <td>7 DE NOVIEMBRE</td>\n",
       "      <td>107.81</td>\n",
       "      <td>MEDIO</td>\n",
       "      <td>19.4552601937,-99.1126617526</td>\n",
       "      <td>19.4552601937</td>\n",
       "      <td>-99.1126617526</td>\n",
       "    </tr>\n",
       "    <tr>\n",
       "      <th>2</th>\n",
       "      <td>GUSTAVO A. MADERO</td>\n",
       "      <td>7 DE NOVIEMBRE</td>\n",
       "      <td>122.93</td>\n",
       "      <td>POPULAR</td>\n",
       "      <td>19.4557195871,-99.1135822797</td>\n",
       "      <td>19.4557195871</td>\n",
       "      <td>-99.1135822797</td>\n",
       "    </tr>\n",
       "    <tr>\n",
       "      <th>3</th>\n",
       "      <td>GUSTAVO A. MADERO</td>\n",
       "      <td>NUEVA TENOCHTITLAN</td>\n",
       "      <td>0.00</td>\n",
       "      <td>BAJO</td>\n",
       "      <td>19.4596467168,-99.1044693641</td>\n",
       "      <td>19.4596467168</td>\n",
       "      <td>-99.1044693641</td>\n",
       "    </tr>\n",
       "    <tr>\n",
       "      <th>4</th>\n",
       "      <td>AZCAPOTZALCO</td>\n",
       "      <td>PROHOGAR</td>\n",
       "      <td>539.49</td>\n",
       "      <td>BAJO</td>\n",
       "      <td>19.4741606185,-99.1467497317</td>\n",
       "      <td>19.4741606185</td>\n",
       "      <td>-99.1467497317</td>\n",
       "    </tr>\n",
       "  </tbody>\n",
       "</table>\n",
       "</div>"
      ],
      "text/plain": [
       "            alcaldia             colonia  consumo_total_dom indice_des  \\\n",
       "0  GUSTAVO A. MADERO      7 DE NOVIEMBRE             468.23       ALTO   \n",
       "1  GUSTAVO A. MADERO      7 DE NOVIEMBRE             107.81      MEDIO   \n",
       "2  GUSTAVO A. MADERO      7 DE NOVIEMBRE             122.93    POPULAR   \n",
       "3  GUSTAVO A. MADERO  NUEVA TENOCHTITLAN               0.00       BAJO   \n",
       "4       AZCAPOTZALCO            PROHOGAR             539.49       BAJO   \n",
       "\n",
       "                   geo_point_2d            lat             lon  \n",
       "0  19.4552601937,-99.1126617526  19.4552601937  -99.1126617526  \n",
       "1  19.4552601937,-99.1126617526  19.4552601937  -99.1126617526  \n",
       "2  19.4557195871,-99.1135822797  19.4557195871  -99.1135822797  \n",
       "3  19.4596467168,-99.1044693641  19.4596467168  -99.1044693641  \n",
       "4  19.4741606185,-99.1467497317  19.4741606185  -99.1467497317  "
      ]
     },
     "metadata": {},
     "execution_count": 21
    }
   ],
   "metadata": {}
  },
  {
   "cell_type": "code",
   "execution_count": 54,
   "source": [
    "consumoAguaAlcaldia = pd.DataFrame(df2.groupby([\"alcaldia\"]).consumo_total_dom.sum())##Agrupamos por alcaldía y calculamos su total de consumo\n",
    "\n",
    "consumoAguaAlcaldia = consumoAguaAlcaldia.rename_axis('alcaldia').reset_index()\n",
    "print(consumoAguaAlcaldia)\n"
   ],
   "outputs": [
    {
     "output_type": "stream",
     "name": "stdout",
     "text": [
      "               alcaldia  consumo_total_dom\n",
      "0        ALVARO OBREGON       6.590161e+06\n",
      "1          AZCAPOTZALCO       6.153755e+06\n",
      "2         BENITO JUAREZ       9.894931e+06\n",
      "3              COYOACAN       5.128303e+06\n",
      "4            CUAJIMALPA       2.064264e+06\n",
      "5            CUAUHTEMOC       1.034611e+07\n",
      "6     GUSTAVO A. MADERO       9.196449e+06\n",
      "7             IZTACALCO       4.663498e+06\n",
      "8            IZTAPALAPA       5.263020e+06\n",
      "9   MAGDALENA CONTRERAS       8.449665e+05\n",
      "10       MIGUEL HIDALGO       8.640463e+06\n",
      "11           MILPA ALTA       7.250709e+04\n",
      "12              TLAHUAC       6.018023e+05\n",
      "13              TLALPAN       2.877269e+06\n",
      "14  VENUSTIANO CARRANZA       5.007008e+06\n",
      "15           XOCHIMILCO       1.283415e+06\n"
     ]
    }
   ],
   "metadata": {}
  },
  {
   "cell_type": "code",
   "execution_count": null,
   "source": [
    "consumoAguaColonia = pd.DataFrame(df2.groupby([\"colonia\"]).consumo_total_dom.sum())##Agrupamos por colonia y calculamos su consumo Total de agua\n",
    "print(consumoAguaColonia)\n"
   ],
   "outputs": [],
   "metadata": {}
  },
  {
   "cell_type": "code",
   "execution_count": null,
   "source": [
    "consumoAguaIndiceDes = pd.DataFrame( ((df2.groupby(['indice_des']).consumo_total_dom.sum() )))##Agrupamos por índice de desarrollo y calculamos su consumo total de agua\n",
    "consumoAguaIndiceDes.head()"
   ],
   "outputs": [],
   "metadata": {}
  },
  {
   "cell_type": "code",
   "execution_count": null,
   "source": [
    "coloniasIndiceDes = pd.DataFrame(df2.indice_des.value_counts() )### Calculamos una tabla de frecuencias de colonias con su indice de desarrollo\n",
    "print(coloniasIndiceDes)"
   ],
   "outputs": [],
   "metadata": {}
  },
  {
   "cell_type": "markdown",
   "source": [
    "# Gráficas"
   ],
   "metadata": {}
  },
  {
   "cell_type": "code",
   "execution_count": 58,
   "source": [
    "data = [go.Bar(x=consumoAguaAlcaldia[\"alcaldia\"] , y=consumoAguaAlcaldia[\"consumo_total_dom\"]   )]\n",
    "layout = go.Layout(title=\"Consumo de Agua Domiciliario por Alcaldía\\nCDMX 2019\",\n",
    "                    xaxis= dict(title=\"Alcaldías\"),\n",
    "                    yaxis= dict(title=\"Consumo Total de Agua\"),\n",
    "                    barmode = \"stack\" )\n",
    "fig = go.Figure(data=data, layout=layout)\n",
    "pyo.plot(fig)"
   ],
   "outputs": [
    {
     "output_type": "execute_result",
     "data": {
      "text/plain": [
       "'temp-plot.html'"
      ]
     },
     "metadata": {},
     "execution_count": 58
    }
   ],
   "metadata": {}
  }
 ],
 "metadata": {
  "orig_nbformat": 4,
  "language_info": {
   "name": "python",
   "version": "3.6.9",
   "mimetype": "text/x-python",
   "codemirror_mode": {
    "name": "ipython",
    "version": 3
   },
   "pygments_lexer": "ipython3",
   "nbconvert_exporter": "python",
   "file_extension": ".py"
  },
  "kernelspec": {
   "name": "python3",
   "display_name": "Python 3.6.9 64-bit"
  },
  "interpreter": {
   "hash": "31f2aee4e71d21fbe5cf8b01ff0e069b9275f58929596ceb00d14d90e3e16cd6"
  }
 },
 "nbformat": 4,
 "nbformat_minor": 2
}