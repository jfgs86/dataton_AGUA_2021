{
 "cells": [
  {
   "cell_type": "markdown",
   "source": [
    "# Cargamos módulos"
   ],
   "metadata": {}
  },
  {
   "cell_type": "code",
   "execution_count": 46,
   "source": [
    "import pandas as pd\n",
    "import numpy as np\n",
    "import plotly.offline as pyo\n",
    "import plotly.graph_objs as go\n",
    "import unicodedata"
   ],
   "outputs": [],
   "metadata": {}
  },
  {
   "cell_type": "markdown",
   "source": [
    "# Datos de Consumo de agua CDMX 2019"
   ],
   "metadata": {}
  },
  {
   "cell_type": "code",
   "execution_count": null,
   "source": [
    "df = pd.read_csv(\"/home/jfractal/Documentos/dataton_2021/dataton_AGUA_2021/consumo-agua.csv\")\n",
    "#df.dtypes ## muestra los nombres de los campos y su tipo.\n",
    "df.columns"
   ],
   "outputs": [],
   "metadata": {}
  },
  {
   "cell_type": "code",
   "execution_count": 41,
   "source": [
    "df2 = df.iloc[:, [8,9,7,17,1]]\n",
    "#df2.head(10)"
   ],
   "outputs": [],
   "metadata": {}
  },
  {
   "cell_type": "code",
   "execution_count": null,
   "source": [
    "df2['lat'], df2['lon'] = df2['geo_point_2d'].str.split(',', 1).str ## Separamos el campo geo_point_2d en dos nuevas columnas\n",
    "#df2.head()"
   ],
   "outputs": [],
   "metadata": {}
  },
  {
   "cell_type": "code",
   "execution_count": 43,
   "source": [
    "consumoAguaAlcaldia = pd.DataFrame(df2.groupby([\"alcaldia\"]).consumo_total_dom.sum())##Agrupamos por alcaldía y calculamos su total de consumo\n",
    "\n",
    "consumoAguaAlcaldia = consumoAguaAlcaldia.rename_axis('alcaldia').reset_index()\n",
    "print(consumoAguaAlcaldia)\n"
   ],
   "outputs": [
    {
     "output_type": "stream",
     "name": "stdout",
     "text": [
      "               alcaldia  consumo_total_dom\n",
      "0        ALVARO OBREGON       6.590161e+06\n",
      "1          AZCAPOTZALCO       6.153755e+06\n",
      "2         BENITO JUAREZ       9.894931e+06\n",
      "3              COYOACAN       5.128303e+06\n",
      "4            CUAJIMALPA       2.064264e+06\n",
      "5            CUAUHTEMOC       1.034611e+07\n",
      "6     GUSTAVO A. MADERO       9.196449e+06\n",
      "7             IZTACALCO       4.663498e+06\n",
      "8            IZTAPALAPA       5.263020e+06\n",
      "9   MAGDALENA CONTRERAS       8.449665e+05\n",
      "10       MIGUEL HIDALGO       8.640463e+06\n",
      "11           MILPA ALTA       7.250709e+04\n",
      "12              TLAHUAC       6.018023e+05\n",
      "13              TLALPAN       2.877269e+06\n",
      "14  VENUSTIANO CARRANZA       5.007008e+06\n",
      "15           XOCHIMILCO       1.283415e+06\n"
     ]
    }
   ],
   "metadata": {}
  },
  {
   "cell_type": "code",
   "execution_count": null,
   "source": [
    "consumoAguaColonia = pd.DataFrame(df2.groupby([\"colonia\"]).consumo_total_dom.sum())##Agrupamos por colonia y calculamos su consumo Total de agua\n",
    "print(consumoAguaColonia)\n"
   ],
   "outputs": [],
   "metadata": {}
  },
  {
   "cell_type": "code",
   "execution_count": null,
   "source": [
    "consumoAguaIndiceDes = pd.DataFrame( ((df2.groupby(['indice_des']).consumo_total_dom.sum() )))##Agrupamos por índice de desarrollo y calculamos su consumo total de agua\n",
    "consumoAguaIndiceDes.head()"
   ],
   "outputs": [],
   "metadata": {}
  },
  {
   "cell_type": "code",
   "execution_count": null,
   "source": [
    "coloniasIndiceDes = pd.DataFrame(df2.indice_des.value_counts() )### Calculamos una tabla de frecuencias de colonias con su indice de desarrollo\n",
    "print(coloniasIndiceDes)"
   ],
   "outputs": [],
   "metadata": {}
  },
  {
   "cell_type": "markdown",
   "source": [
    "# Datos de Población CDMX 2020"
   ],
   "metadata": {}
  },
  {
   "cell_type": "code",
   "execution_count": null,
   "source": [
    "pob = pd.read_csv(\"/home/jfractal/Documentos/dataton_2021/dataton_AGUA_2021/ITER2020_09CDMX.csv\")\n",
    "pob.head(1)"
   ],
   "outputs": [],
   "metadata": {}
  },
  {
   "cell_type": "code",
   "execution_count": 44,
   "source": [
    "pob.columns\n",
    "pobT = pob.iloc[:,[3,5,6]]\n",
    "pobT = pobT.rename(columns={\"Nombre del municipio o demarcación territorial\": \"NomMun\", \"Nombre de la localidad\":\"NomLoc\", \"Población total\":\"PT\"  } )\n",
    "pobT = pobT[ (pobT['NomLoc'] == \"Total del Municipio\") ]\n",
    "pobT = pobT.iloc[:,[0,2]]\n",
    "print(pobT)"
   ],
   "outputs": [
    {
     "output_type": "stream",
     "name": "stdout",
     "text": [
      "                     NomMun         PT\n",
      "3              Azcapotzalco   432205.0\n",
      "5                  Coyoacán   614447.0\n",
      "7     Cuajimalpa de Morelos   217686.0\n",
      "34        Gustavo A. Madero  1173351.0\n",
      "36                Iztacalco   404695.0\n",
      "38               Iztapalapa  1835486.0\n",
      "40   La Magdalena Contreras   247622.0\n",
      "66               Milpa Alta   152685.0\n",
      "313          Álvaro Obregón   759137.0\n",
      "322                 Tláhuac   392313.0\n",
      "377                 Tlalpan   699928.0\n",
      "544              Xochimilco   442178.0\n",
      "658           Benito Juárez   434153.0\n",
      "660              Cuauhtémoc   545884.0\n",
      "662          Miguel Hidalgo   414470.0\n",
      "664     Venustiano Carranza   443704.0\n"
     ]
    }
   ],
   "metadata": {}
  },
  {
   "cell_type": "markdown",
   "source": [
    "# Creamos un dataset de la unión de datos de consumo de agua y población total de la cdmx"
   ],
   "metadata": {}
  },
  {
   "cell_type": "code",
   "execution_count": null,
   "source": [
    "#Homologamos el campo \"alcaldia\". Transformamos de minusculas a mayusculas y quitamos tíldes\n",
    "pobT[\"NomMun\"] = pobT[\"NomMun\"].str.upper()##Tranformar de minusculas a mayusculas\n",
    "pobT['NomMun']=pobT['NomMun'].str.normalize('NFKD').str.encode('ascii', errors='ignore').str.decode('utf-8')##Quita acentos\n",
    "pobT = pobT.replace({\"CUAJIMALPA DE MORELOS\": \"CUAJIMALPA\",\n",
    "               \"LA MAGDALENA CONTRERAS\": \"MAGDALENA CONTRERAS\" })##Remplazamos los registros\n",
    "print(pobT)"
   ],
   "outputs": [],
   "metadata": {}
  },
  {
   "cell_type": "code",
   "execution_count": 63,
   "source": [
    "pobT_consAgua = pobT.merge(consumoAguaAlcaldia, left_on='NomMun', right_on='alcaldia')\n",
    "pobT_consAgua = pobT_consAgua.iloc[:,[0,1,3]]\n",
    "print(pobT_consAgua)"
   ],
   "outputs": [
    {
     "output_type": "stream",
     "name": "stdout",
     "text": [
      "                 NomMun         PT  consumo_total_dom\n",
      "0          AZCAPOTZALCO   432205.0       6.153755e+06\n",
      "1              COYOACAN   614447.0       5.128303e+06\n",
      "2            CUAJIMALPA   217686.0       2.064264e+06\n",
      "3     GUSTAVO A. MADERO  1173351.0       9.196449e+06\n",
      "4             IZTACALCO   404695.0       4.663498e+06\n",
      "5            IZTAPALAPA  1835486.0       5.263020e+06\n",
      "6   MAGDALENA CONTRERAS   247622.0       8.449665e+05\n",
      "7            MILPA ALTA   152685.0       7.250709e+04\n",
      "8        ALVARO OBREGON   759137.0       6.590161e+06\n",
      "9               TLAHUAC   392313.0       6.018023e+05\n",
      "10              TLALPAN   699928.0       2.877269e+06\n",
      "11           XOCHIMILCO   442178.0       1.283415e+06\n",
      "12        BENITO JUAREZ   434153.0       9.894931e+06\n",
      "13           CUAUHTEMOC   545884.0       1.034611e+07\n",
      "14       MIGUEL HIDALGO   414470.0       8.640463e+06\n",
      "15  VENUSTIANO CARRANZA   443704.0       5.007008e+06\n"
     ]
    }
   ],
   "metadata": {}
  },
  {
   "cell_type": "code",
   "execution_count": 71,
   "source": [
    "## Creamos nuevas variables\n",
    "\n",
    "pobT_consAgua[\"ConsumoPercapita\"] = pobT_consAgua.consumo_total_dom/pobT_consAgua.PT\n",
    "pobT_consAgua.sort_values(by=['ConsumoPercapita'], inplace=True, ascending=False )\n",
    "print(pobT_consAgua)"
   ],
   "outputs": [
    {
     "output_type": "stream",
     "name": "stdout",
     "text": [
      "                 NomMun         PT  consumo_total_dom  ConsumoPercapita\n",
      "12        BENITO JUAREZ   434153.0       9.894931e+06         22.791345\n",
      "14       MIGUEL HIDALGO   414470.0       8.640463e+06         20.847017\n",
      "13           CUAUHTEMOC   545884.0       1.034611e+07         18.952952\n",
      "0          AZCAPOTZALCO   432205.0       6.153755e+06         14.238046\n",
      "4             IZTACALCO   404695.0       4.663498e+06         11.523487\n",
      "15  VENUSTIANO CARRANZA   443704.0       5.007008e+06         11.284568\n",
      "2            CUAJIMALPA   217686.0       2.064264e+06          9.482760\n",
      "8        ALVARO OBREGON   759137.0       6.590161e+06          8.681123\n",
      "1              COYOACAN   614447.0       5.128303e+06          8.346209\n",
      "3     GUSTAVO A. MADERO  1173351.0       9.196449e+06          7.837765\n",
      "10              TLALPAN   699928.0       2.877269e+06          4.110807\n",
      "6   MAGDALENA CONTRERAS   247622.0       8.449665e+05          3.412324\n",
      "11           XOCHIMILCO   442178.0       1.283415e+06          2.902485\n",
      "5            IZTAPALAPA  1835486.0       5.263020e+06          2.867371\n",
      "9               TLAHUAC   392313.0       6.018023e+05          1.533985\n",
      "7            MILPA ALTA   152685.0       7.250709e+04          0.474880\n"
     ]
    }
   ],
   "metadata": {}
  },
  {
   "cell_type": "markdown",
   "source": [
    "# Gráficas"
   ],
   "metadata": {}
  },
  {
   "cell_type": "markdown",
   "source": [
    "## Gráfica de Consumo de agua por alcaldía"
   ],
   "metadata": {}
  },
  {
   "cell_type": "code",
   "execution_count": 58,
   "source": [
    "data = [go.Bar(x=consumoAguaAlcaldia[\"alcaldia\"] , y=consumoAguaAlcaldia[\"consumo_total_dom\"]   )]\n",
    "layout = go.Layout(title=\"Consumo de Agua Domiciliario por Alcaldía\\nCDMX 2019\",\n",
    "                    xaxis= dict(title=\"Alcaldías\"),\n",
    "                    yaxis= dict(title=\"Consumo Total de Agua\"),\n",
    "                    barmode = \"stack\" )\n",
    "fig = go.Figure(data=data, layout=layout)\n",
    "pyo.plot(fig)"
   ],
   "outputs": [
    {
     "output_type": "execute_result",
     "data": {
      "text/plain": [
       "'temp-plot.html'"
      ]
     },
     "metadata": {},
     "execution_count": 58
    }
   ],
   "metadata": {}
  },
  {
   "cell_type": "markdown",
   "source": [
    "## Gráfica de la Población total por alcaldía"
   ],
   "metadata": {}
  },
  {
   "cell_type": "code",
   "execution_count": 39,
   "source": [
    "data1 = [go.Bar(x=pobT[\"NomMun\"], y=pobT[\"PT\"] )]\n",
    "layout1 = go.Layout(title=\"Población Total de la CDMX por Alcaldía 2020\", \n",
    "                    xaxis=dict(title=\"Alcaldía\"),\n",
    "                    yaxis=dict(title=\"Población Total\"),\n",
    "                    barmode=\"stack\" )\n",
    "fig1 = go.Figure(data=data1, layout=layout1)\n",
    "pyo.plot(fig1, filename=\"poblacion_total.html\")"
   ],
   "outputs": [
    {
     "output_type": "execute_result",
     "data": {
      "text/plain": [
       "'poblacion_total.html'"
      ]
     },
     "metadata": {},
     "execution_count": 39
    }
   ],
   "metadata": {}
  },
  {
   "cell_type": "markdown",
   "source": [
    "## Gráfica de Consumo de agua percapita"
   ],
   "metadata": {}
  },
  {
   "cell_type": "code",
   "execution_count": 73,
   "source": [
    "data2 = [go.Bar(x=pobT_consAgua[\"NomMun\"], y=pobT_consAgua[\"ConsumoPercapita\"])]\n",
    "layout2 = go.Layout(title=\"Consumo per cápita de Agua en la CDMX 2019\",\n",
    "                     xaxis=dict(title=\"Alcaldía\"),\n",
    "                     yaxis=dict(title=\"Consumo de agua\"),\n",
    "                     barmode=\"stack\")\n",
    "fig2 = go.Figure(data=data2, layout=layout2)\n",
    "pyo.plot(fig2, filename=\"consumo_agua_percapita.html\")"
   ],
   "outputs": [
    {
     "output_type": "execute_result",
     "data": {
      "text/plain": [
       "'consumo_agua_percapita.html'"
      ]
     },
     "metadata": {},
     "execution_count": 73
    }
   ],
   "metadata": {}
  }
 ],
 "metadata": {
  "orig_nbformat": 4,
  "language_info": {
   "name": "python",
   "version": "3.6.9",
   "mimetype": "text/x-python",
   "codemirror_mode": {
    "name": "ipython",
    "version": 3
   },
   "pygments_lexer": "ipython3",
   "nbconvert_exporter": "python",
   "file_extension": ".py"
  },
  "kernelspec": {
   "name": "python3",
   "display_name": "Python 3.6.9 64-bit"
  },
  "interpreter": {
   "hash": "31f2aee4e71d21fbe5cf8b01ff0e069b9275f58929596ceb00d14d90e3e16cd6"
  }
 },
 "nbformat": 4,
 "nbformat_minor": 2
}