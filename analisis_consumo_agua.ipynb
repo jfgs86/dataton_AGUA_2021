{
 "cells": [
  {
   "cell_type": "markdown",
   "source": [
    "# Cargamos módulos"
   ],
   "metadata": {}
  },
  {
   "cell_type": "code",
   "execution_count": 1,
   "source": [
    "import pandas as pd\n",
    "import numpy as np\n",
    "import plotly.offline as pyo\n",
    "import plotly.graph_objs as go\n",
    "import plotly.express as px\n",
    "import unicodedata"
   ],
   "outputs": [],
   "metadata": {}
  },
  {
   "cell_type": "markdown",
   "source": [
    "# Datos de Consumo de agua CDMX primer semestre 2019"
   ],
   "metadata": {}
  },
  {
   "cell_type": "code",
   "execution_count": null,
   "source": [
    "df = pd.read_csv(\"/home/jfractal/Documentos/dataton_2021/dataton_AGUA_2021/consumo-agua.csv\")\n",
    "#df.dtypes ## muestra los nombres de los campos y su tipo.\n",
    "df.columns\n",
    "#df.head()"
   ],
   "outputs": [],
   "metadata": {}
  },
  {
   "cell_type": "code",
   "execution_count": 5,
   "source": [
    "df2 = df.iloc[:, [8,9,7,17,1,14,16]]\n",
    "df2.head(1)\n",
    "#print(df['bimestre'].unique()) ##muestra los valores únicos del campo bimestre"
   ],
   "outputs": [
    {
     "output_type": "execute_result",
     "data": {
      "text/html": [
       "<div>\n",
       "<style scoped>\n",
       "    .dataframe tbody tr th:only-of-type {\n",
       "        vertical-align: middle;\n",
       "    }\n",
       "\n",
       "    .dataframe tbody tr th {\n",
       "        vertical-align: top;\n",
       "    }\n",
       "\n",
       "    .dataframe thead th {\n",
       "        text-align: right;\n",
       "    }\n",
       "</style>\n",
       "<table border=\"1\" class=\"dataframe\">\n",
       "  <thead>\n",
       "    <tr style=\"text-align: right;\">\n",
       "      <th></th>\n",
       "      <th>alcaldia</th>\n",
       "      <th>colonia</th>\n",
       "      <th>consumo_total_dom</th>\n",
       "      <th>indice_des</th>\n",
       "      <th>geo_point_2d</th>\n",
       "      <th>bimestre</th>\n",
       "      <th>gid</th>\n",
       "    </tr>\n",
       "  </thead>\n",
       "  <tbody>\n",
       "    <tr>\n",
       "      <th>0</th>\n",
       "      <td>GUSTAVO A. MADERO</td>\n",
       "      <td>7 DE NOVIEMBRE</td>\n",
       "      <td>468.23</td>\n",
       "      <td>ALTO</td>\n",
       "      <td>19.4552601937,-99.1126617526</td>\n",
       "      <td>3</td>\n",
       "      <td>57250</td>\n",
       "    </tr>\n",
       "  </tbody>\n",
       "</table>\n",
       "</div>"
      ],
      "text/plain": [
       "            alcaldia         colonia  consumo_total_dom indice_des  \\\n",
       "0  GUSTAVO A. MADERO  7 DE NOVIEMBRE             468.23       ALTO   \n",
       "\n",
       "                   geo_point_2d  bimestre    gid  \n",
       "0  19.4552601937,-99.1126617526         3  57250  "
      ]
     },
     "metadata": {},
     "execution_count": 5
    }
   ],
   "metadata": {}
  },
  {
   "cell_type": "code",
   "execution_count": null,
   "source": [
    "df2['lat'], df2['lon'] = df2['geo_point_2d'].str.split(',', 1).str ## Separamos el campo geo_point_2d en dos nuevas columnas\n",
    "df2.head(20)"
   ],
   "outputs": [],
   "metadata": {}
  },
  {
   "cell_type": "markdown",
   "source": [
    "## Consumo total domiciliario por alcaldía"
   ],
   "metadata": {}
  },
  {
   "cell_type": "code",
   "execution_count": null,
   "source": [
    "consumoAguaAlcaldia = pd.DataFrame(df2.groupby([\"alcaldia\"]).consumo_total_dom.sum())##Agrupamos por alcaldía y calculamos su total de consumo\n",
    "\n",
    "consumoAguaAlcaldia = consumoAguaAlcaldia.rename_axis('alcaldia').reset_index()\n",
    "print(consumoAguaAlcaldia)\n"
   ],
   "outputs": [],
   "metadata": {}
  },
  {
   "cell_type": "markdown",
   "source": [
    "## Consumo total por colonia "
   ],
   "metadata": {}
  },
  {
   "cell_type": "code",
   "execution_count": 18,
   "source": [
    "consumoAguaColonia = pd.DataFrame(df2.groupby([\"colonia\"]).consumo_total_dom.sum())##Agrupamos por colonia y calculamos su consumo Total de agua\n",
    "consumoAguaColonia = consumoAguaColonia.rename_axis('colonia').reset_index()\n",
    "print(consumoAguaColonia)\n"
   ],
   "outputs": [
    {
     "output_type": "stream",
     "name": "stdout",
     "text": [
      "                   colonia  consumo_total_dom\n",
      "0              10 DE ABRIL            3518.36\n",
      "1               10 DE MAYO           39893.07\n",
      "2          12 DE DICIEMBRE           14665.91\n",
      "3             15 DE AGOSTO           22758.02\n",
      "4         16 DE SEPTIEMBRE           26090.27\n",
      "...                    ...                ...\n",
      "1335         ZENON DELGADO            4709.78\n",
      "1336            ZENTLAPATL              12.20\n",
      "1337           ZONA CENTRO          258997.92\n",
      "1338          ZONA ESCOLAR           78071.28\n",
      "1339  ZONA ESCOLAR ORIENTE          162172.81\n",
      "\n",
      "[1340 rows x 2 columns]\n"
     ]
    }
   ],
   "metadata": {}
  },
  {
   "cell_type": "code",
   "execution_count": 19,
   "source": [
    "coordenasGeoColonia = df2.iloc[:,[1,4]]\n",
    "consumoAguaColonia = consumoAguaColonia.merge(coordenasGeoColonia, left_on='colonia', right_on='colonia')\n"
   ],
   "outputs": [],
   "metadata": {}
  },
  {
   "cell_type": "code",
   "execution_count": 20,
   "source": [
    "consumoAguaColonia2 = consumoAguaColonia.iloc[:,[0,1,2]]\n",
    "consumoAguaColonia2 = consumoAguaColonia2.drop_duplicates(subset=['colonia'])\n",
    "consumoAguaColonia2['lat'], consumoAguaColonia2['lon'] = consumoAguaColonia2['geo_point_2d'].str.split(',', 1).str\n",
    "consumoAguaColonia2[['lat', 'lon']] = consumoAguaColonia2[['lat', 'lon']].astype(float)"
   ],
   "outputs": [
    {
     "output_type": "stream",
     "name": "stderr",
     "text": [
      "/usr/lib/python3/dist-packages/ipykernel_launcher.py:3: FutureWarning:\n",
      "\n",
      "Columnar iteration over characters will be deprecated in future releases.\n",
      "\n"
     ]
    }
   ],
   "metadata": {}
  },
  {
   "cell_type": "code",
   "execution_count": null,
   "source": [
    "consumoAguaIndiceDes = pd.DataFrame( ((df2.groupby(['indice_des']).consumo_total_dom.sum() )))##Agrupamos por índice de desarrollo y calculamos su consumo total de agua\n",
    "consumoAguaIndiceDes.head()"
   ],
   "outputs": [],
   "metadata": {}
  },
  {
   "cell_type": "code",
   "execution_count": null,
   "source": [
    "coloniasIndiceDes = pd.DataFrame(df2.indice_des.value_counts() )### Calculamos una tabla de frecuencias de colonias con su indice de desarrollo\n",
    "print(coloniasIndiceDes)"
   ],
   "outputs": [],
   "metadata": {}
  },
  {
   "cell_type": "markdown",
   "source": [
    "# Datos de Población CDMX 2020"
   ],
   "metadata": {}
  },
  {
   "cell_type": "code",
   "execution_count": null,
   "source": [
    "pob = pd.read_csv(\"/home/jfractal/Documentos/dataton_2021/dataton_AGUA_2021/ITER2020_09CDMX.csv\")\n",
    "pob.columns"
   ],
   "outputs": [],
   "metadata": {}
  },
  {
   "cell_type": "code",
   "execution_count": 12,
   "source": [
    "pob.columns\n",
    "pobT = pob.iloc[:,[3,5,6]]\n",
    "pobT = pobT.rename(columns={\"Nombre del municipio o demarcación territorial\": \"NomMun\", \"Nombre de la localidad\":\"NomLoc\", \"Población total\":\"PT\"  } )\n",
    "pobT = pobT[ (pobT['NomLoc'] == \"Total del Municipio\") ]\n",
    "pobT = pobT.iloc[:,[0,2]]\n",
    "print(pobT)"
   ],
   "outputs": [
    {
     "output_type": "stream",
     "name": "stdout",
     "text": [
      "                     NomMun         PT\n",
      "3              Azcapotzalco   432205.0\n",
      "5                  Coyoacán   614447.0\n",
      "7     Cuajimalpa de Morelos   217686.0\n",
      "34        Gustavo A. Madero  1173351.0\n",
      "36                Iztacalco   404695.0\n",
      "38               Iztapalapa  1835486.0\n",
      "40   La Magdalena Contreras   247622.0\n",
      "66               Milpa Alta   152685.0\n",
      "313          Álvaro Obregón   759137.0\n",
      "322                 Tláhuac   392313.0\n",
      "377                 Tlalpan   699928.0\n",
      "544              Xochimilco   442178.0\n",
      "658           Benito Juárez   434153.0\n",
      "660              Cuauhtémoc   545884.0\n",
      "662          Miguel Hidalgo   414470.0\n",
      "664     Venustiano Carranza   443704.0\n"
     ]
    }
   ],
   "metadata": {}
  },
  {
   "cell_type": "markdown",
   "source": [
    "# Creamos un dataset de la unión de datos de consumo de agua y población total de la cdmx"
   ],
   "metadata": {}
  },
  {
   "cell_type": "code",
   "execution_count": null,
   "source": [
    "#Homologamos el campo \"alcaldia\". Transformamos de minusculas a mayusculas y quitamos tíldes\n",
    "pobT[\"NomMun\"] = pobT[\"NomMun\"].str.upper()##Tranformar de minusculas a mayusculas\n",
    "pobT['NomMun']=pobT['NomMun'].str.normalize('NFKD').str.encode('ascii', errors='ignore').str.decode('utf-8')##Quita acentos\n",
    "pobT = pobT.replace({\"CUAJIMALPA DE MORELOS\": \"CUAJIMALPA\",\n",
    "               \"LA MAGDALENA CONTRERAS\": \"MAGDALENA CONTRERAS\" })##Remplazamos los registros\n",
    "print(pobT)"
   ],
   "outputs": [],
   "metadata": {}
  },
  {
   "cell_type": "code",
   "execution_count": null,
   "source": [
    "pobT_consAgua = pobT.merge(consumoAguaAlcaldia, left_on='NomMun', right_on='alcaldia')\n",
    "#pobT_consAgua = pobT_consAgua.iloc[:,[0,1,3]]\n",
    "#print(pobT_consAgua)\n",
    "pobT.head(5)"
   ],
   "outputs": [],
   "metadata": {}
  },
  {
   "cell_type": "code",
   "execution_count": null,
   "source": [
    "## Creamos nuevas variables\n",
    "\n",
    "pobT_consAgua[\"ConsumoPercapita\"] = pobT_consAgua.consumo_total_dom/pobT_consAgua.PT\n",
    "pobT_consAgua.sort_values(by=['ConsumoPercapita'], inplace=True, ascending=False )\n",
    "print(pobT_consAgua)"
   ],
   "outputs": [],
   "metadata": {}
  },
  {
   "cell_type": "markdown",
   "source": [
    "# Gráficas"
   ],
   "metadata": {}
  },
  {
   "cell_type": "markdown",
   "source": [
    "## Gráfica de Consumo de agua por alcaldía"
   ],
   "metadata": {}
  },
  {
   "cell_type": "code",
   "execution_count": 16,
   "source": [
    "data = [go.Bar(x=consumoAguaAlcaldia[\"alcaldia\"] , y=consumoAguaAlcaldia[\"consumo_total_dom\"]   )]\n",
    "layout = go.Layout(title=\"Consumo de Agua Domiciliario por Alcaldía\\nCDMX 2019\",\n",
    "                    xaxis= dict(title=\"Alcaldías\"),\n",
    "                    yaxis= dict(title=\"Consumo Total de Agua\"),\n",
    "                    barmode = \"stack\" )\n",
    "fig = go.Figure(data=data, layout=layout)\n",
    "pyo.plot(fig)"
   ],
   "outputs": [
    {
     "output_type": "execute_result",
     "data": {
      "text/plain": [
       "'temp-plot.html'"
      ]
     },
     "metadata": {},
     "execution_count": 16
    }
   ],
   "metadata": {}
  },
  {
   "cell_type": "markdown",
   "source": [
    "## Gráfica de la Población total por alcaldía"
   ],
   "metadata": {}
  },
  {
   "cell_type": "code",
   "execution_count": 39,
   "source": [
    "data1 = [go.Bar(x=pobT[\"NomMun\"], y=pobT[\"PT\"] )]\n",
    "layout1 = go.Layout(title=\"Población Total de la CDMX por Alcaldía 2020\", \n",
    "                    xaxis=dict(title=\"Alcaldía\"),\n",
    "                    yaxis=dict(title=\"Población Total\"),\n",
    "                    barmode=\"stack\" )\n",
    "fig1 = go.Figure(data=data1, layout=layout1)\n",
    "pyo.plot(fig1, filename=\"poblacion_total.html\")"
   ],
   "outputs": [
    {
     "output_type": "execute_result",
     "data": {
      "text/plain": [
       "'poblacion_total.html'"
      ]
     },
     "metadata": {},
     "execution_count": 39
    }
   ],
   "metadata": {}
  },
  {
   "cell_type": "markdown",
   "source": [
    "## Gráfica de Consumo de agua percapita"
   ],
   "metadata": {}
  },
  {
   "cell_type": "code",
   "execution_count": 73,
   "source": [
    "data2 = [go.Bar(x=pobT_consAgua[\"NomMun\"], y=pobT_consAgua[\"ConsumoPercapita\"])]\n",
    "layout2 = go.Layout(title=\"Consumo per cápita de Agua en la CDMX 2019\",\n",
    "                     xaxis=dict(title=\"Alcaldía\"),\n",
    "                     yaxis=dict(title=\"Consumo de agua\"),\n",
    "                     barmode=\"stack\")\n",
    "fig2 = go.Figure(data=data2, layout=layout2)\n",
    "pyo.plot(fig2, filename=\"consumo_agua_percapita.html\")"
   ],
   "outputs": [
    {
     "output_type": "execute_result",
     "data": {
      "text/plain": [
       "'consumo_agua_percapita.html'"
      ]
     },
     "metadata": {},
     "execution_count": 73
    }
   ],
   "metadata": {}
  },
  {
   "cell_type": "markdown",
   "source": [
    "## Mapa de consumo de agua domiciliario por colonia"
   ],
   "metadata": {}
  },
  {
   "cell_type": "code",
   "execution_count": 21,
   "source": [
    "mapbox_access_token = \"pk.eyJ1IjoiaXZhbmxvc2FyIiwiYSI6ImNrZTJpdWN0NDA5cXUyem1oOGx3NGh1bGsifQ.wuhB2vmk4QGrciFWYygqaA\"\n",
    "\n",
    "fig3 = px.scatter_mapbox(consumoAguaColonia2, lat = \"lat\", lon = \"lon\", hover_name= \"colonia\", \n",
    "                        hover_data = [\"consumo_total_dom\"],\n",
    "                        color=\"consumo_total_dom\", size_max = 15, zoom = 10,\n",
    "                        size=\"consumo_total_dom\",color_continuous_scale=px.colors.cyclical.IceFire,\n",
    "                        title = \"Consumo de agua por colonia\", \n",
    "                        \n",
    "                        )\n",
    "fig3.update_layout(\n",
    "    autosize=True,\n",
    "    hovermode='closest', #muestra el dato más cercano al mover el cursor por el gráfico\n",
    "    mapbox=dict(\n",
    "        accesstoken=mapbox_access_token,\n",
    "        zoom=12 #zoom inicial del mapa\n",
    "    ),\n",
    ")\n",
    "\n",
    "\n",
    "pyo.plot(fig3, filename=\"ConsumoAguaDom.html\")\n",
    "\n"
   ],
   "outputs": [
    {
     "output_type": "execute_result",
     "data": {
      "text/plain": [
       "'ConsumoAguaDom.html'"
      ]
     },
     "metadata": {},
     "execution_count": 21
    }
   ],
   "metadata": {}
  }
 ],
 "metadata": {
  "orig_nbformat": 4,
  "language_info": {
   "name": "python",
   "version": "3.6.9",
   "mimetype": "text/x-python",
   "codemirror_mode": {
    "name": "ipython",
    "version": 3
   },
   "pygments_lexer": "ipython3",
   "nbconvert_exporter": "python",
   "file_extension": ".py"
  },
  "kernelspec": {
   "name": "python3",
   "display_name": "Python 3.6.9 64-bit"
  },
  "interpreter": {
   "hash": "31f2aee4e71d21fbe5cf8b01ff0e069b9275f58929596ceb00d14d90e3e16cd6"
  }
 },
 "nbformat": 4,
 "nbformat_minor": 2
}