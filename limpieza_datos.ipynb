{
 "cells": [
  {
   "cell_type": "markdown",
   "source": [
    "# Código que limpia y homologa los regitros de los siguientes dataset:\n",
    "## Consumo de agua en la CDMX. Primer semestre del 2019 \n",
    "## Población Total de la CDMX 2020\n"
   ],
   "metadata": {}
  },
  {
   "cell_type": "code",
   "execution_count": 1,
   "source": [
    "#Importamos los módulos\n",
    "import pandas as pd\n",
    "import numpy as np\n",
    "import unicodedata"
   ],
   "outputs": [],
   "metadata": {}
  },
  {
   "cell_type": "markdown",
   "source": [
    "# Consumo de agua en la CDMX. Primer semestre 2019"
   ],
   "metadata": {}
  },
  {
   "cell_type": "code",
   "execution_count": 2,
   "source": [
    "# Cargamos el conjunto de datos\n",
    "consAgua = pd.read_csv(\"/home/jfractal/Documentos/dataton_2021/dataton_AGUA_2021/consumo-agua.csv\")\n",
    "consAgua.columns ##muestra el nombre de los campos \n"
   ],
   "outputs": [
    {
     "output_type": "execute_result",
     "data": {
      "text/plain": [
       "Index(['id', 'geo_point_2d', 'geo_shape', 'consumo_total_mixto', 'anio',\n",
       "       'nomgeo', 'consumo_prom_dom', 'consumo_total_dom', 'alcaldia',\n",
       "       'colonia', 'consumo_prom_mixto', 'consumo_total', 'consumo_prom',\n",
       "       'consumo_prom_no_dom', 'bimestre', 'consumo_total_no_dom', 'gid',\n",
       "       'indice_des'],\n",
       "      dtype='object')"
      ]
     },
     "metadata": {},
     "execution_count": 2
    }
   ],
   "metadata": {}
  },
  {
   "cell_type": "markdown",
   "source": [
    "## Creamos un subconjunto de datos con los campos: \n",
    "+ alcaldia\n",
    "+ colonia\n",
    "+ consumo_total\n",
    "+ consumo_total_dom,\n",
    "+ consumo_total_no_dom \n",
    "+ bimestre\n",
    "+ geo_point_2d"
   ],
   "metadata": {}
  },
  {
   "cell_type": "code",
   "execution_count": 3,
   "source": [
    "sub_consAgua= consAgua.iloc[:,[8,9,11,7,15,3,14,1]]\n",
    "sub_consAgua.columns"
   ],
   "outputs": [
    {
     "output_type": "execute_result",
     "data": {
      "text/plain": [
       "Index(['alcaldia', 'colonia', 'consumo_total', 'consumo_total_dom',\n",
       "       'consumo_total_no_dom', 'consumo_total_mixto', 'bimestre',\n",
       "       'geo_point_2d'],\n",
       "      dtype='object')"
      ]
     },
     "metadata": {},
     "execution_count": 3
    }
   ],
   "metadata": {}
  },
  {
   "cell_type": "markdown",
   "source": [
    "## De sub_consAgua crearemos dos conjunto de datos:\n",
    "+ consAguaAlcaldia que contiene los campos: alcaldia, consumo_total, consumo_total_dom,consumo_total_no_dom y bimeste\n",
    "+ consAguaColonia que contiene los campos: alcaldia, consumo_total, consumo_total_dom,consumo_total_no_dom, bimeste y geo_poin_2d"
   ],
   "metadata": {}
  },
  {
   "cell_type": "code",
   "execution_count": 7,
   "source": [
    "consAguaAlcaldia = sub_consAgua.iloc[:,[0,2,3,4,5,6]]\n",
    "\n",
    "##Agrupa por alcaldia y sumamos valores\n",
    "consAguaAlcaldiaTotal = pd.DataFrame(consAguaAlcaldia.groupby([\"alcaldia\"]).agg({\"consumo_total\":'sum', \n",
    "                                                                               \"consumo_total_dom\":'sum',\n",
    "                                                                                \"consumo_total_no_dom\":'sum',\n",
    "                                                                                \"consumo_total_mixto\":\"sum\"}).reset_index())\n",
    "\n",
    "##Creamos nuevos campos que es el consumo de agua respecto del total\n",
    "consAguaAlcaldiaTotal[\"consumo_total/TOTAL\"] = ((consAguaAlcaldiaTotal[\"consumo_total\"]/consAguaAlcaldiaTotal[\"consumo_total\"].sum()).round(4))*100\n",
    "consAguaAlcaldiaTotal[\"consumo_total_dom/TOTAL\"] = ((consAguaAlcaldiaTotal[\"consumo_total_dom\"]/consAguaAlcaldiaTotal[\"consumo_total_dom\"].sum()).round(4))*100\n",
    "consAguaAlcaldiaTotal[\"consumo_total_no_dom/TOTAL\"] = ((consAguaAlcaldiaTotal[\"consumo_total_no_dom\"]/consAguaAlcaldiaTotal[\"consumo_total_no_dom\"].sum()).round(4))*100\n",
    "consAguaAlcaldiaTotal[\"consumo_total_mixto/TOTAL\"] = ((consAguaAlcaldiaTotal[\"consumo_total_mixto\"]/consAguaAlcaldiaTotal[\"consumo_total_mixto\"].sum()).round(4))*100\n",
    "consAguaAlcaldiaTotal.to_csv('/home/jfractal/Documentos/dataton_2021/dataton_AGUA_2021/consumoAguaTotalAlcaldia.csv')\n",
    "\n"
   ],
   "outputs": [],
   "metadata": {}
  },
  {
   "cell_type": "code",
   "execution_count": null,
   "source": [
    "##Agrupamos por alcaldia y bimestre y sumamos valores\n",
    "consAguaAlcaldiaTotal_bimestre = pd.DataFrame(consAguaAlcaldia.groupby([\"alcaldia\",\"bimestre\"]).agg({\"consumo_total\":'sum', \n",
    "                                                                               \"consumo_total_dom\":'sum',\n",
    "                                                                                \"consumo_total_no_dom\":'sum',\n",
    "                                                                                \"consumo_total_mixto\":\"sum\"}))\n",
    "\n",
    "consAguaAlcaldiaTotal_bimestre.head(4)"
   ],
   "outputs": [],
   "metadata": {}
  },
  {
   "cell_type": "code",
   "execution_count": null,
   "source": [
    "consAguaColonia = sub_consAgua.iloc[:,[1,2,3,4,5,6,7]]"
   ],
   "outputs": [],
   "metadata": {}
  },
  {
   "cell_type": "code",
   "execution_count": 91,
   "source": [],
   "outputs": [
    {
     "output_type": "execute_result",
     "data": {
      "text/plain": [
       "99.99000000000001"
      ]
     },
     "metadata": {},
     "execution_count": 91
    }
   ],
   "metadata": {}
  }
 ],
 "metadata": {
  "orig_nbformat": 4,
  "language_info": {
   "name": "python",
   "version": "3.6.9",
   "mimetype": "text/x-python",
   "codemirror_mode": {
    "name": "ipython",
    "version": 3
   },
   "pygments_lexer": "ipython3",
   "nbconvert_exporter": "python",
   "file_extension": ".py"
  },
  "kernelspec": {
   "name": "python3",
   "display_name": "Python 3.6.9 64-bit"
  },
  "interpreter": {
   "hash": "31f2aee4e71d21fbe5cf8b01ff0e069b9275f58929596ceb00d14d90e3e16cd6"
  }
 },
 "nbformat": 4,
 "nbformat_minor": 2
}