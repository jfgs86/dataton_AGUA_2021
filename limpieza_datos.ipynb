{
 "cells": [
  {
   "cell_type": "markdown",
   "metadata": {},
   "source": [
    "# Código que limpia y homologa los regitros de los siguientes dataset:\n",
    "## Consumo de agua en la CDMX. Primer semestre del 2019 \n",
    "## Población Total de la CDMX 2020\n"
   ]
  },
  {
   "cell_type": "code",
   "execution_count": 1,
   "metadata": {},
   "outputs": [],
   "source": [
    "#Importamos los módulos\n",
    "import pandas as pd\n",
    "import numpy as np\n",
    "import unicodedata"
   ]
  },
  {
   "cell_type": "markdown",
   "metadata": {},
   "source": [
    "# Consumo de agua en la CDMX. Primer semestre 2019"
   ]
  },
  {
   "cell_type": "code",
   "execution_count": 2,
   "metadata": {},
   "outputs": [
    {
     "data": {
      "text/plain": [
       "Index(['id', 'geo_point_2d', 'geo_shape', 'consumo_total_mixto', 'anio',\n",
       "       'nomgeo', 'consumo_prom_dom', 'consumo_total_dom', 'alcaldia',\n",
       "       'colonia', 'consumo_prom_mixto', 'consumo_total', 'consumo_prom',\n",
       "       'consumo_prom_no_dom', 'bimestre', 'consumo_total_no_dom', 'gid',\n",
       "       'indice_des'],\n",
       "      dtype='object')"
      ]
     },
     "execution_count": 2,
     "metadata": {},
     "output_type": "execute_result"
    }
   ],
   "source": [
    "# Cargamos el conjunto de datos\n",
    "consAgua = pd.read_csv(\"/home/jfractal/Documentos/dataton_2021/dataton_AGUA_2021/consumo-agua.csv\")\n",
    "consAgua.columns ##muestra el nombre de los campos \n"
   ]
  },
  {
   "cell_type": "markdown",
   "metadata": {},
   "source": [
    "## Creamos un subconjunto de datos con los campos: \n",
    "+ alcaldia\n",
    "+ colonia\n",
    "+ consumo_total\n",
    "+ consumo_total_dom,\n",
    "+ consumo_total_no_dom \n",
    "+ bimestre\n",
    "+ geo_point_2d"
   ]
  },
  {
   "cell_type": "code",
   "execution_count": 3,
   "metadata": {},
   "outputs": [
    {
     "data": {
      "text/plain": [
       "Index(['alcaldia', 'colonia', 'consumo_total', 'consumo_total_dom',\n",
       "       'consumo_total_no_dom', 'consumo_total_mixto', 'bimestre',\n",
       "       'geo_point_2d'],\n",
       "      dtype='object')"
      ]
     },
     "execution_count": 3,
     "metadata": {},
     "output_type": "execute_result"
    }
   ],
   "source": [
    "sub_consAgua= consAgua.iloc[:,[8,9,11,7,15,3,14,1]]\n",
    "sub_consAgua.columns"
   ]
  },
  {
   "cell_type": "markdown",
   "metadata": {},
   "source": [
    "## De sub_consAgua crearemos dos conjunto de datos:\n",
    "+ consAguaAlcaldia que contiene los campos: alcaldia, consumo_total, consumo_total_dom,consumo_total_no_dom y bimeste\n",
    "+ consAguaColonia que contiene los campos: alcaldia, consumo_total, consumo_total_dom,consumo_total_no_dom, bimeste y geo_poin_2d"
   ]
  },
  {
   "cell_type": "code",
   "execution_count": null,
   "metadata": {},
   "outputs": [],
   "source": [
    "consAguaAlcaldia = sub_consAgua.iloc[:,[0,2,3,4,5,6]]\n",
    "\n",
    "##Agrupa por alcaldia y sumamos valores\n",
    "consAguaAlcaldiaTotal = pd.DataFrame(consAguaAlcaldia.groupby([\"alcaldia\"]).agg({\"consumo_total\":'sum', \n",
    "                                                                               \"consumo_total_dom\":'sum',\n",
    "                                                                                \"consumo_total_no_dom\":'sum',\n",
    "                                                                                \"consumo_total_mixto\":\"sum\"}).reset_index())\n",
    "\n",
    "##Creamos nuevos campos que es el consumo de agua respecto del total\n",
    "consAguaAlcaldiaTotal[\"consumo_total/TOTAL\"] = ((consAguaAlcaldiaTotal[\"consumo_total\"]/consAguaAlcaldiaTotal[\"consumo_total\"].sum()).round(4))*100\n",
    "consAguaAlcaldiaTotal[\"consumo_total_dom/TOTAL\"] = ((consAguaAlcaldiaTotal[\"consumo_total_dom\"]/consAguaAlcaldiaTotal[\"consumo_total_dom\"].sum()).round(4))*100\n",
    "consAguaAlcaldiaTotal[\"consumo_total_no_dom/TOTAL\"] = ((consAguaAlcaldiaTotal[\"consumo_total_no_dom\"]/consAguaAlcaldiaTotal[\"consumo_total_no_dom\"].sum()).round(4))*100\n",
    "consAguaAlcaldiaTotal[\"consumo_total_mixto/TOTAL\"] = ((consAguaAlcaldiaTotal[\"consumo_total_mixto\"]/consAguaAlcaldiaTotal[\"consumo_total_mixto\"].sum()).round(4))*100\n",
    "\n",
    "\n",
    "consAguaAlcaldiaTotal.to_csv('/home/jfractal/Documentos/dataton_2021/dataton_AGUA_2021/consumoAguaTotalAlcaldia.csv')\n",
    "\n",
    "#consAguaAlcaldiaTotal"
   ]
  },
  {
   "cell_type": "code",
   "execution_count": null,
   "metadata": {},
   "outputs": [],
   "source": [
    "##Agrupamos por alcaldia y bimestre y sumamos valores\n",
    "consAguaAlcaldiaTotal_bimestre = pd.DataFrame(consAguaAlcaldia.groupby([\"alcaldia\",\"bimestre\"]).agg({\"consumo_total\":'sum', \n",
    "                                                                               \"consumo_total_dom\":'sum',\n",
    "                                                                                \"consumo_total_no_dom\":'sum',\n",
    "                                                                                \"consumo_total_mixto\":\"sum\"}))\n",
    "\n",
    "consAguaAlcaldiaTotal_bimestre.head(4)"
   ]
  },
  {
   "cell_type": "code",
   "execution_count": 8,
   "metadata": {},
   "outputs": [
    {
     "name": "stdout",
     "output_type": "stream",
     "text": [
      "                      consumo_total\n",
      "colonia                            \n",
      "10 DE ABRIL                18615.57\n",
      "10 DE MAYO                 46761.97\n",
      "12 DE DICIEMBRE            18878.59\n",
      "15 DE AGOSTO               27514.12\n",
      "16 DE SEPTIEMBRE           37867.09\n",
      "...                             ...\n",
      "ZENON DELGADO               5571.32\n",
      "ZENTLAPATL                  1533.30\n",
      "ZONA CENTRO               386166.05\n",
      "ZONA ESCOLAR              130047.17\n",
      "ZONA ESCOLAR ORIENTE      180963.16\n",
      "\n",
      "[1340 rows x 1 columns]\n"
     ]
    }
   ],
   "source": [
    "consAguaColonia = sub_consAgua.iloc[:,[0,1,2,3,4,5,6,7]]\n",
    "consumoAguaColonia2 = pd.DataFrame(consAguaColonia.groupby([\"colonia\"]).consumo_total.sum())##Agrupamos por colonia y calculamos su consumo Total de agua\\n\",\n",
    "print(consumoAguaColonia2)\n",
    "#consumoAguaColonia2 = consumoAguaColonia2.rename_axis('colonia').reset_index()\n",
    "#print(consumoAguaColonia)"
   ]
  },
  {
   "cell_type": "code",
   "execution_count": 91,
   "metadata": {},
   "outputs": [
    {
     "data": {
      "text/plain": [
       "99.99000000000001"
      ]
     },
     "execution_count": 91,
     "metadata": {},
     "output_type": "execute_result"
    }
   ],
   "source": []
  }
 ],
 "metadata": {
  "interpreter": {
   "hash": "31f2aee4e71d21fbe5cf8b01ff0e069b9275f58929596ceb00d14d90e3e16cd6"
  },
  "kernelspec": {
   "display_name": "Python 3.6.9 64-bit",
   "name": "python3"
  },
  "language_info": {
   "codemirror_mode": {
    "name": "ipython",
    "version": 3
   },
   "file_extension": ".py",
   "mimetype": "text/x-python",
   "name": "python",
   "nbconvert_exporter": "python",
   "pygments_lexer": "ipython3",
   "version": "3.6.9"
  },
  "orig_nbformat": 4
 },
 "nbformat": 4,
 "nbformat_minor": 2
}
