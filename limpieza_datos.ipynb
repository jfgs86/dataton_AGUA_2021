{
 "cells": [
  {
   "cell_type": "markdown",
   "metadata": {},
   "source": [
    "# Código que limpia y homologa los regitros de los siguientes dataset:\n",
    "## Consumo de agua en la CDMX. Primer semestre del 2019 \n",
    "## Población Total de la CDMX 2020\n"
   ]
  },
  {
   "cell_type": "code",
   "execution_count": 1,
   "metadata": {},
   "outputs": [],
   "source": [
    "#Importamos los módulos\n",
    "import pandas as pd\n",
    "import numpy as np\n",
    "import unicodedata"
   ]
  },
  {
   "cell_type": "markdown",
   "metadata": {},
   "source": [
    "# Consumo de agua en la CDMX. Primer semestre 2019"
   ]
  },
  {
   "cell_type": "code",
   "execution_count": 2,
   "metadata": {},
   "outputs": [],
   "source": [
    "# Cargamos el conjunto de datos\n",
    "consAgua = pd.read_csv(\"/home/jfractal/Documentos/dataton_2021/dataton_AGUA_2021/consumo-agua.csv\")\n",
    "#consAgua.columns ##muestra el nombre de los campos \n"
   ]
  },
  {
   "cell_type": "markdown",
   "metadata": {},
   "source": [
    "## Creamos un subconjunto de datos con los campos: \n",
    "+ alcaldia\n",
    "+ colonia\n",
    "+ consumo_total\n",
    "+ consumo_total_dom,\n",
    "+ consumo_total_no_dom \n",
    "+ bimestre\n",
    "+ geo_point_2d"
   ]
  },
  {
   "cell_type": "code",
   "execution_count": 3,
   "metadata": {},
   "outputs": [
    {
     "data": {
      "text/plain": [
       "Index(['alcaldia', 'colonia', 'consumo_total', 'consumo_total_dom',\n",
       "       'consumo_total_no_dom', 'consumo_total_mixto', 'bimestre',\n",
       "       'geo_point_2d'],\n",
       "      dtype='object')"
      ]
     },
     "execution_count": 3,
     "metadata": {},
     "output_type": "execute_result"
    }
   ],
   "source": [
    "sub_consAgua= consAgua.iloc[:,[8,9,11,7,15,3,14,1]]\n",
    "sub_consAgua.columns"
   ]
  },
  {
   "cell_type": "markdown",
   "metadata": {},
   "source": [
    "## De sub_consAgua crearemos dos conjunto de datos:\n",
    "+ consAguaAlcaldia que contiene los campos: alcaldia, consumo_total, consumo_total_dom,consumo_total_no_dom y bimeste\n",
    "+ consAguaColonia que contiene los campos: alcaldia, consumo_total, consumo_total_dom,consumo_total_no_dom, bimeste y geo_poin_2d"
   ]
  },
  {
   "cell_type": "code",
   "execution_count": null,
   "metadata": {},
   "outputs": [],
   "source": [
    "consAguaAlcaldia = sub_consAgua.iloc[:,[0,2,3,4,5,6]]\n",
    "\n",
    "##Agrupa por alcaldia y sumamos valores\n",
    "consAguaAlcaldiaTotal = pd.DataFrame(consAguaAlcaldia.groupby([\"alcaldia\"]).agg({\"consumo_total\":'sum', \n",
    "                                                                               \"consumo_total_dom\":'sum',\n",
    "                                                                                \"consumo_total_no_dom\":'sum',\n",
    "                                                                                \"consumo_total_mixto\":\"sum\"}).reset_index())\n",
    "\n",
    "##Creamos nuevos campos que es el consumo de agua respecto del total\n",
    "consAguaAlcaldiaTotal[\"consumo_total/TOTAL\"] = ((consAguaAlcaldiaTotal[\"consumo_total\"]/consAguaAlcaldiaTotal[\"consumo_total\"].sum()).round(4))*100\n",
    "consAguaAlcaldiaTotal[\"consumo_total_dom/TOTAL\"] = ((consAguaAlcaldiaTotal[\"consumo_total_dom\"]/consAguaAlcaldiaTotal[\"consumo_total_dom\"].sum()).round(4))*100\n",
    "consAguaAlcaldiaTotal[\"consumo_total_no_dom/TOTAL\"] = ((consAguaAlcaldiaTotal[\"consumo_total_no_dom\"]/consAguaAlcaldiaTotal[\"consumo_total_no_dom\"].sum()).round(4))*100\n",
    "consAguaAlcaldiaTotal[\"consumo_total_mixto/TOTAL\"] = ((consAguaAlcaldiaTotal[\"consumo_total_mixto\"]/consAguaAlcaldiaTotal[\"consumo_total_mixto\"].sum()).round(4))*100\n",
    "\n",
    "\n",
    "#consAguaAlcaldiaTotal.to_csv('/home/jfractal/Documentos/dataton_2021/dataton_AGUA_2021/consumoAguaTotalAlcaldia.csv')\n",
    "\n",
    "#consAguaAlcaldiaTotal"
   ]
  },
  {
   "cell_type": "code",
   "execution_count": null,
   "metadata": {},
   "outputs": [],
   "source": [
    "##Agrupamos por alcaldia y bimestre y sumamos valores\n",
    "consAguaAlcaldiaTotal_bimestre = pd.DataFrame(consAguaAlcaldia.groupby([\"alcaldia\",\"bimestre\"]).agg({\"consumo_total\":'sum', \n",
    "                                                                               \"consumo_total_dom\":'sum',\n",
    "                                                                                \"consumo_total_no_dom\":'sum',\n",
    "                                                                                \"consumo_total_mixto\":\"sum\"}))\n",
    "\n",
    "consAguaAlcaldiaTotal_bimestre.head(4)"
   ]
  },
  {
   "cell_type": "code",
   "execution_count": 8,
   "metadata": {},
   "outputs": [
    {
     "name": "stdout",
     "output_type": "stream",
     "text": [
      "            alcaldia                             colonia  consumo_total  \\\n",
      "0     ALVARO OBREGON          1A. AMPLIACION PRESIDENTES        9175.88   \n",
      "1     ALVARO OBREGON                        1A. VICTORIA       34559.13   \n",
      "2     ALVARO OBREGON          2A. AMPLIACION PRESIDENTES       10010.37   \n",
      "3     ALVARO OBREGON  2DA. DEL MORAL DEL PUEBLO TETELPAN       20652.51   \n",
      "4     ALVARO OBREGON          2DO. REACOMODO TLACUITLAPA        8591.50   \n",
      "...              ...                                 ...            ...   \n",
      "1406      XOCHIMILCO                   TEJOMULCO EL ALTO          84.28   \n",
      "1407      XOCHIMILCO                              TEXMIC        7739.62   \n",
      "1408      XOCHIMILCO                        TIERRA NUEVA       21871.87   \n",
      "1409      XOCHIMILCO                VALLE DE SANTA MARIA           0.00   \n",
      "1410      XOCHIMILCO                          XOCHIPILLI        3063.78   \n",
      "\n",
      "                                       alcaldia_colonia  \n",
      "0             ALVARO OBREGON 1A. AMPLIACION PRESIDENTES  \n",
      "1                           ALVARO OBREGON 1A. VICTORIA  \n",
      "2             ALVARO OBREGON 2A. AMPLIACION PRESIDENTES  \n",
      "3     ALVARO OBREGON 2DA. DEL MORAL DEL PUEBLO TETELPAN  \n",
      "4             ALVARO OBREGON 2DO. REACOMODO TLACUITLAPA  \n",
      "...                                                 ...  \n",
      "1406                       XOCHIMILCO TEJOMULCO EL ALTO  \n",
      "1407                                  XOCHIMILCO TEXMIC  \n",
      "1408                            XOCHIMILCO TIERRA NUEVA  \n",
      "1409                    XOCHIMILCO VALLE DE SANTA MARIA  \n",
      "1410                              XOCHIMILCO XOCHIPILLI  \n",
      "\n",
      "[1411 rows x 4 columns]\n"
     ]
    }
   ],
   "source": [
    "consAguaColonia = sub_consAgua.iloc[:,[0,1,2,3,4,5,6,7]]\n",
    "consumoAguaColonia2 = pd.DataFrame(consAguaColonia.groupby([\"alcaldia\", \"colonia\"]).consumo_total.sum())##Agrupamos por colonia y calculamos su consumo Total de agua\\n\",\n",
    "consumoAguaColonia2 = consumoAguaColonia2.rename_axis([\"alcaldia\", \"colonia\"]).reset_index()\n",
    "consumoAguaColonia2[\"alcaldia_colonia\"] = consumoAguaColonia2[\"alcaldia\"]+[' '] +consumoAguaColonia2[\"colonia\"]\n",
    "print(consumoAguaColonia2)\n"
   ]
  },
  {
   "cell_type": "code",
   "execution_count": 10,
   "metadata": {},
   "outputs": [
    {
     "name": "stdout",
     "output_type": "stream",
     "text": [
      "           alcaldia_x                   colonia_x  consumo_total  \\\n",
      "0      ALVARO OBREGON  1A. AMPLIACION PRESIDENTES        9175.88   \n",
      "1      ALVARO OBREGON  1A. AMPLIACION PRESIDENTES        9175.88   \n",
      "2      ALVARO OBREGON  1A. AMPLIACION PRESIDENTES        9175.88   \n",
      "3      ALVARO OBREGON  1A. AMPLIACION PRESIDENTES        9175.88   \n",
      "4      ALVARO OBREGON  1A. AMPLIACION PRESIDENTES        9175.88   \n",
      "...               ...                         ...            ...   \n",
      "71097      XOCHIMILCO                  XOCHIPILLI        3063.78   \n",
      "71098      XOCHIMILCO                  XOCHIPILLI        3063.78   \n",
      "71099      XOCHIMILCO                  XOCHIPILLI        3063.78   \n",
      "71100      XOCHIMILCO                  XOCHIPILLI        3063.78   \n",
      "71101      XOCHIMILCO                  XOCHIPILLI        3063.78   \n",
      "\n",
      "                                alcaldia_colonia      alcaldia_y  \\\n",
      "0      ALVARO OBREGON 1A. AMPLIACION PRESIDENTES  ALVARO OBREGON   \n",
      "1      ALVARO OBREGON 1A. AMPLIACION PRESIDENTES  ALVARO OBREGON   \n",
      "2      ALVARO OBREGON 1A. AMPLIACION PRESIDENTES  ALVARO OBREGON   \n",
      "3      ALVARO OBREGON 1A. AMPLIACION PRESIDENTES  ALVARO OBREGON   \n",
      "4      ALVARO OBREGON 1A. AMPLIACION PRESIDENTES  ALVARO OBREGON   \n",
      "...                                          ...             ...   \n",
      "71097                      XOCHIMILCO XOCHIPILLI      XOCHIMILCO   \n",
      "71098                      XOCHIMILCO XOCHIPILLI      XOCHIMILCO   \n",
      "71099                      XOCHIMILCO XOCHIPILLI      XOCHIMILCO   \n",
      "71100                      XOCHIMILCO XOCHIPILLI      XOCHIMILCO   \n",
      "71101                      XOCHIMILCO XOCHIPILLI      XOCHIMILCO   \n",
      "\n",
      "                        colonia_y                  geo_point_2d  \n",
      "0      1A. AMPLIACION PRESIDENTES  19.3755734939,-99.2249577355  \n",
      "1      1A. AMPLIACION PRESIDENTES   19.3745559246,-99.224013962  \n",
      "2      1A. AMPLIACION PRESIDENTES  19.3755734939,-99.2249577355  \n",
      "3      1A. AMPLIACION PRESIDENTES  19.3768119861,-99.2238666909  \n",
      "4      1A. AMPLIACION PRESIDENTES  19.3768119861,-99.2238666909  \n",
      "...                           ...                           ...  \n",
      "71097                  XOCHIPILLI   19.2491179189,-99.087368422  \n",
      "71098                  XOCHIPILLI  19.2494944145,-99.0866576006  \n",
      "71099                  XOCHIPILLI   19.250463028,-99.0862422876  \n",
      "71100                  XOCHIPILLI  19.2494944145,-99.0866576006  \n",
      "71101                  XOCHIPILLI  19.2494944145,-99.0866576006  \n",
      "\n",
      "[71102 rows x 7 columns]\n"
     ]
    }
   ],
   "source": [
    "#coordenasGeoColonia = sub_consAgua.iloc[:,[0,1,7]]\n",
    "#coordenasGeoColonia[\"alcaldia_colonia\"] = coordenasGeoColonia[\"alcaldia\"]+[' ']+coordenasGeoColonia[\"colonia\"]\n",
    "consumoAguaColonia2 = consumoAguaColonia2.merge(coordenasGeoColonia, left_on='alcaldia_colonia', right_on='alcaldia_colonia')\n",
    "print(consumoAguaColonia2)"
   ]
  },
  {
   "cell_type": "code",
   "execution_count": 11,
   "metadata": {},
   "outputs": [
    {
     "name": "stderr",
     "output_type": "stream",
     "text": [
      "/usr/lib/python3/dist-packages/ipykernel_launcher.py:3: FutureWarning: Columnar iteration over characters will be deprecated in future releases.\n",
      "  This is separate from the ipykernel package so we can avoid doing imports until\n"
     ]
    }
   ],
   "source": [
    "\n",
    "consumoAguaColonia2 = consumoAguaColonia2.drop_duplicates(subset=['alcaldia_colonia'])\n",
    "consumoAguaColonia2['lat'], consumoAguaColonia2['lon'] = consumoAguaColonia2['geo_point_2d'].str.split(',', 1).str\n",
    "consumoAguaColonia2[['lat', 'lon']] = consumoAguaColonia2[['lat', 'lon']].astype(float)\n",
    "consumoAguaColonia2.to_csv('/home/jfractal/Documentos/dataton_2021/dataton_AGUA_2021/consumoAguaColonia2.csv')\n"
   ]
  }
 ],
 "metadata": {
  "interpreter": {
   "hash": "31f2aee4e71d21fbe5cf8b01ff0e069b9275f58929596ceb00d14d90e3e16cd6"
  },
  "kernelspec": {
   "display_name": "Python 3.6.9 64-bit",
   "name": "python3"
  },
  "language_info": {
   "codemirror_mode": {
    "name": "ipython",
    "version": 3
   },
   "file_extension": ".py",
   "mimetype": "text/x-python",
   "name": "python",
   "nbconvert_exporter": "python",
   "pygments_lexer": "ipython3",
   "version": "3.6.9"
  },
  "orig_nbformat": 4
 },
 "nbformat": 4,
 "nbformat_minor": 2
}
